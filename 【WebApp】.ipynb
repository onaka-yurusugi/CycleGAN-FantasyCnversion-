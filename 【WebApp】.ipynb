{
  "nbformat": 4,
  "nbformat_minor": 0,
  "metadata": {
    "colab": {
      "name": "【WebApp】",
      "provenance": [],
      "collapsed_sections": [],
      "toc_visible": true,
      "include_colab_link": true
    },
    "kernelspec": {
      "name": "python3",
      "display_name": "Python 3"
    },
    "accelerator": "GPU"
  },
  "cells": [
    {
      "cell_type": "markdown",
      "metadata": {
        "id": "view-in-github",
        "colab_type": "text"
      },
      "source": [
        "<a href=\"https://colab.research.google.com/github/onaka-yurusugi/CycleGAN-FantasyCnversion-/blob/master/%E3%80%90WebApp%E3%80%91.ipynb\" target=\"_parent\"><img src=\"https://colab.research.google.com/assets/colab-badge.svg\" alt=\"Open In Colab\"/></a>"
      ]
    },
    {
      "cell_type": "code",
      "metadata": {
        "id": "YdnZGRb_M_SJ",
        "colab": {
          "base_uri": "https://localhost:8080/"
        },
        "outputId": "46778dff-cc91-435a-8f26-76c10309f83b"
      },
      "source": [
        "from tensorflow.python.client import device_lib\n",
        "device_lib.list_local_devices()"
      ],
      "execution_count": null,
      "outputs": [
        {
          "output_type": "execute_result",
          "data": {
            "text/plain": [
              "[name: \"/device:CPU:0\"\n",
              " device_type: \"CPU\"\n",
              " memory_limit: 268435456\n",
              " locality {\n",
              " }\n",
              " incarnation: 11683804186222339911, name: \"/device:GPU:0\"\n",
              " device_type: \"GPU\"\n",
              " memory_limit: 11345264640\n",
              " locality {\n",
              "   bus_id: 1\n",
              "   links {\n",
              "   }\n",
              " }\n",
              " incarnation: 6582557207192175658\n",
              " physical_device_desc: \"device: 0, name: Tesla K80, pci bus id: 0000:00:04.0, compute capability: 3.7\"]"
            ]
          },
          "metadata": {},
          "execution_count": 1
        }
      ]
    },
    {
      "cell_type": "code",
      "metadata": {
        "id": "3Qcw9Rd3MZJd",
        "colab": {
          "base_uri": "https://localhost:8080/"
        },
        "outputId": "3bc759e1-fbed-42fd-a4d3-d23bcc426c9e"
      },
      "source": [
        "from google.colab import drive\n",
        "drive.mount('/content/gdrive')"
      ],
      "execution_count": null,
      "outputs": [
        {
          "output_type": "stream",
          "text": [
            "Mounted at /content/gdrive\n"
          ],
          "name": "stdout"
        }
      ]
    },
    {
      "cell_type": "markdown",
      "metadata": {
        "id": "aTGcmZ-LOMYT"
      },
      "source": [
        "## CycleGANの準備"
      ]
    },
    {
      "cell_type": "code",
      "metadata": {
        "id": "mnoCGaj_MueL",
        "colab": {
          "base_uri": "https://localhost:8080/"
        },
        "outputId": "7cb224bb-4979-4b39-8a3d-cb0e87021150"
      },
      "source": [
        "%cd /content/gdrive/My Drive/Colab Notebooks/\n",
        "!mkdir WebApp\n",
        "%cd /content/gdrive/My Drive/Colab Notebooks/WebApp\n",
        "!git clone https://github.com/junyanz/pytorch-CycleGAN-and-pix2pix.git\n",
        "%cd /content/gdrive/My Drive/Colab Notebooks/WebApp/pytorch-CycleGAN-and-pix2pix\n",
        "!pip install -r requirements.txt\n",
        "\n",
        "!git clone https://github.com/facebookresearch/visdom.git\n",
        "%cd visdom\n",
        "!pip install -e .\n",
        "!pip install visdom dominate"
      ],
      "execution_count": null,
      "outputs": [
        {
          "output_type": "stream",
          "text": [
            "/content/gdrive/My Drive/Colab Notebooks\n",
            "mkdir: cannot create directory ‘WebApp’: File exists\n",
            "/content/gdrive/My Drive/Colab Notebooks/WebApp\n",
            "fatal: destination path 'pytorch-CycleGAN-and-pix2pix' already exists and is not an empty directory.\n",
            "/content/gdrive/My Drive/Colab Notebooks/WebApp/pytorch-CycleGAN-and-pix2pix\n",
            "Requirement already satisfied: torch>=0.4.1 in /usr/local/lib/python3.7/dist-packages (from -r requirements.txt (line 1)) (1.9.0+cu102)\n",
            "Requirement already satisfied: torchvision>=0.2.1 in /usr/local/lib/python3.7/dist-packages (from -r requirements.txt (line 2)) (0.10.0+cu102)\n",
            "Collecting dominate>=2.3.1\n",
            "  Downloading dominate-2.6.0-py2.py3-none-any.whl (29 kB)\n",
            "Collecting visdom>=0.1.8.3\n",
            "  Downloading visdom-0.1.8.9.tar.gz (676 kB)\n",
            "\u001b[K     |████████████████████████████████| 676 kB 8.0 MB/s \n",
            "\u001b[?25hRequirement already satisfied: typing-extensions in /usr/local/lib/python3.7/dist-packages (from torch>=0.4.1->-r requirements.txt (line 1)) (3.7.4.3)\n",
            "Requirement already satisfied: pillow>=5.3.0 in /usr/local/lib/python3.7/dist-packages (from torchvision>=0.2.1->-r requirements.txt (line 2)) (7.1.2)\n",
            "Requirement already satisfied: numpy in /usr/local/lib/python3.7/dist-packages (from torchvision>=0.2.1->-r requirements.txt (line 2)) (1.19.5)\n",
            "Requirement already satisfied: scipy in /usr/local/lib/python3.7/dist-packages (from visdom>=0.1.8.3->-r requirements.txt (line 4)) (1.4.1)\n",
            "Requirement already satisfied: requests in /usr/local/lib/python3.7/dist-packages (from visdom>=0.1.8.3->-r requirements.txt (line 4)) (2.23.0)\n",
            "Requirement already satisfied: tornado in /usr/local/lib/python3.7/dist-packages (from visdom>=0.1.8.3->-r requirements.txt (line 4)) (5.1.1)\n",
            "Requirement already satisfied: pyzmq in /usr/local/lib/python3.7/dist-packages (from visdom>=0.1.8.3->-r requirements.txt (line 4)) (22.2.1)\n",
            "Requirement already satisfied: six in /usr/local/lib/python3.7/dist-packages (from visdom>=0.1.8.3->-r requirements.txt (line 4)) (1.15.0)\n",
            "Collecting jsonpatch\n",
            "  Downloading jsonpatch-1.32-py2.py3-none-any.whl (12 kB)\n",
            "Collecting torchfile\n",
            "  Downloading torchfile-0.1.0.tar.gz (5.2 kB)\n",
            "Collecting websocket-client\n",
            "  Downloading websocket_client-1.2.1-py2.py3-none-any.whl (52 kB)\n",
            "\u001b[K     |████████████████████████████████| 52 kB 1.4 MB/s \n",
            "\u001b[?25hCollecting jsonpointer>=1.9\n",
            "  Downloading jsonpointer-2.1-py2.py3-none-any.whl (7.4 kB)\n",
            "Requirement already satisfied: chardet<4,>=3.0.2 in /usr/local/lib/python3.7/dist-packages (from requests->visdom>=0.1.8.3->-r requirements.txt (line 4)) (3.0.4)\n",
            "Requirement already satisfied: idna<3,>=2.5 in /usr/local/lib/python3.7/dist-packages (from requests->visdom>=0.1.8.3->-r requirements.txt (line 4)) (2.10)\n",
            "Requirement already satisfied: certifi>=2017.4.17 in /usr/local/lib/python3.7/dist-packages (from requests->visdom>=0.1.8.3->-r requirements.txt (line 4)) (2021.5.30)\n",
            "Requirement already satisfied: urllib3!=1.25.0,!=1.25.1,<1.26,>=1.21.1 in /usr/local/lib/python3.7/dist-packages (from requests->visdom>=0.1.8.3->-r requirements.txt (line 4)) (1.24.3)\n",
            "Building wheels for collected packages: visdom, torchfile\n",
            "  Building wheel for visdom (setup.py) ... \u001b[?25l\u001b[?25hdone\n",
            "  Created wheel for visdom: filename=visdom-0.1.8.9-py3-none-any.whl size=655250 sha256=02afa3eff1bdc27308d51b7d91622eb68f7095849edf4bed3323f18fdfb198df\n",
            "  Stored in directory: /root/.cache/pip/wheels/2d/d1/9b/cde923274eac9cbb6ff0d8c7c72fe30a3da9095a38fd50bbf1\n",
            "  Building wheel for torchfile (setup.py) ... \u001b[?25l\u001b[?25hdone\n",
            "  Created wheel for torchfile: filename=torchfile-0.1.0-py3-none-any.whl size=5710 sha256=14ea77ba5e403fb17c353cad7d281a21d5e24cdb3be181a898c7f127548b5500\n",
            "  Stored in directory: /root/.cache/pip/wheels/ac/5c/3a/a80e1c65880945c71fd833408cd1e9a8cb7e2f8f37620bb75b\n",
            "Successfully built visdom torchfile\n",
            "Installing collected packages: jsonpointer, websocket-client, torchfile, jsonpatch, visdom, dominate\n",
            "Successfully installed dominate-2.6.0 jsonpatch-1.32 jsonpointer-2.1 torchfile-0.1.0 visdom-0.1.8.9 websocket-client-1.2.1\n",
            "fatal: destination path 'visdom' already exists and is not an empty directory.\n",
            "/content/gdrive/My Drive/Colab Notebooks/WebApp/pytorch-CycleGAN-and-pix2pix/visdom\n",
            "Obtaining file:///content/gdrive/My%20Drive/Colab%20Notebooks/WebApp/pytorch-CycleGAN-and-pix2pix/visdom\n",
            "Requirement already satisfied: numpy>=1.8 in /usr/local/lib/python3.7/dist-packages (from visdom==0.1.8.9) (1.19.5)\n",
            "Requirement already satisfied: scipy in /usr/local/lib/python3.7/dist-packages (from visdom==0.1.8.9) (1.4.1)\n",
            "Requirement already satisfied: requests in /usr/local/lib/python3.7/dist-packages (from visdom==0.1.8.9) (2.23.0)\n",
            "Requirement already satisfied: tornado in /usr/local/lib/python3.7/dist-packages (from visdom==0.1.8.9) (5.1.1)\n",
            "Requirement already satisfied: pyzmq in /usr/local/lib/python3.7/dist-packages (from visdom==0.1.8.9) (22.2.1)\n",
            "Requirement already satisfied: six in /usr/local/lib/python3.7/dist-packages (from visdom==0.1.8.9) (1.15.0)\n",
            "Requirement already satisfied: jsonpatch in /usr/local/lib/python3.7/dist-packages (from visdom==0.1.8.9) (1.32)\n",
            "Requirement already satisfied: websocket-client in /usr/local/lib/python3.7/dist-packages (from visdom==0.1.8.9) (1.2.1)\n",
            "Requirement already satisfied: pillow in /usr/local/lib/python3.7/dist-packages (from visdom==0.1.8.9) (7.1.2)\n",
            "Requirement already satisfied: jsonpointer>=1.9 in /usr/local/lib/python3.7/dist-packages (from jsonpatch->visdom==0.1.8.9) (2.1)\n",
            "Requirement already satisfied: idna<3,>=2.5 in /usr/local/lib/python3.7/dist-packages (from requests->visdom==0.1.8.9) (2.10)\n",
            "Requirement already satisfied: chardet<4,>=3.0.2 in /usr/local/lib/python3.7/dist-packages (from requests->visdom==0.1.8.9) (3.0.4)\n",
            "Requirement already satisfied: urllib3!=1.25.0,!=1.25.1,<1.26,>=1.21.1 in /usr/local/lib/python3.7/dist-packages (from requests->visdom==0.1.8.9) (1.24.3)\n",
            "Requirement already satisfied: certifi>=2017.4.17 in /usr/local/lib/python3.7/dist-packages (from requests->visdom==0.1.8.9) (2021.5.30)\n",
            "Installing collected packages: visdom\n",
            "  Attempting uninstall: visdom\n",
            "    Found existing installation: visdom 0.1.8.9\n",
            "    Uninstalling visdom-0.1.8.9:\n",
            "      Successfully uninstalled visdom-0.1.8.9\n",
            "  Running setup.py develop for visdom\n",
            "Successfully installed visdom-0.1.8.9\n",
            "Requirement already satisfied: visdom in ./py (0.1.8.9)\n",
            "Requirement already satisfied: dominate in /usr/local/lib/python3.7/dist-packages (2.6.0)\n",
            "Requirement already satisfied: numpy>=1.8 in /usr/local/lib/python3.7/dist-packages (from visdom) (1.19.5)\n",
            "Requirement already satisfied: scipy in /usr/local/lib/python3.7/dist-packages (from visdom) (1.4.1)\n",
            "Requirement already satisfied: requests in /usr/local/lib/python3.7/dist-packages (from visdom) (2.23.0)\n",
            "Requirement already satisfied: tornado in /usr/local/lib/python3.7/dist-packages (from visdom) (5.1.1)\n",
            "Requirement already satisfied: pyzmq in /usr/local/lib/python3.7/dist-packages (from visdom) (22.2.1)\n",
            "Requirement already satisfied: six in /usr/local/lib/python3.7/dist-packages (from visdom) (1.15.0)\n",
            "Requirement already satisfied: jsonpatch in /usr/local/lib/python3.7/dist-packages (from visdom) (1.32)\n",
            "Requirement already satisfied: websocket-client in /usr/local/lib/python3.7/dist-packages (from visdom) (1.2.1)\n",
            "Requirement already satisfied: pillow in /usr/local/lib/python3.7/dist-packages (from visdom) (7.1.2)\n",
            "Requirement already satisfied: jsonpointer>=1.9 in /usr/local/lib/python3.7/dist-packages (from jsonpatch->visdom) (2.1)\n",
            "Requirement already satisfied: urllib3!=1.25.0,!=1.25.1,<1.26,>=1.21.1 in /usr/local/lib/python3.7/dist-packages (from requests->visdom) (1.24.3)\n",
            "Requirement already satisfied: chardet<4,>=3.0.2 in /usr/local/lib/python3.7/dist-packages (from requests->visdom) (3.0.4)\n",
            "Requirement already satisfied: certifi>=2017.4.17 in /usr/local/lib/python3.7/dist-packages (from requests->visdom) (2021.5.30)\n",
            "Requirement already satisfied: idna<3,>=2.5 in /usr/local/lib/python3.7/dist-packages (from requests->visdom) (2.10)\n"
          ],
          "name": "stdout"
        }
      ]
    },
    {
      "cell_type": "markdown",
      "metadata": {
        "id": "wMaK873kOIr9"
      },
      "source": [
        "## ngrokの準備"
      ]
    },
    {
      "cell_type": "code",
      "metadata": {
        "id": "CL6AuRxfN_DA",
        "colab": {
          "base_uri": "https://localhost:8080/"
        },
        "outputId": "75ebc537-4c85-4f81-d815-ee7cab29dff0"
      },
      "source": [
        "%cd /content/gdrive/My Drive/Colab Notebooks/WebApp/\n",
        "!wget https://bin.equinox.io/c/4VmDzA7iaHb/ngrok-stable-linux-amd64.zip\n",
        "!unzip ngrok-stable-linux-amd64.zip"
      ],
      "execution_count": null,
      "outputs": [
        {
          "output_type": "stream",
          "text": [
            "/content/gdrive/My Drive/Colab Notebooks/WebApp\n",
            "--2021-08-27 03:45:44--  https://bin.equinox.io/c/4VmDzA7iaHb/ngrok-stable-linux-amd64.zip\n",
            "Resolving bin.equinox.io (bin.equinox.io)... 52.0.235.238, 3.222.79.56, 34.224.52.96, ...\n",
            "Connecting to bin.equinox.io (bin.equinox.io)|52.0.235.238|:443... connected.\n",
            "HTTP request sent, awaiting response... 200 OK\n",
            "Length: 13832437 (13M) [application/octet-stream]\n",
            "Saving to: ‘ngrok-stable-linux-amd64.zip.3’\n",
            "\n",
            "ngrok-stable-linux- 100%[===================>]  13.19M  29.3MB/s    in 0.4s    \n",
            "\n",
            "2021-08-27 03:45:45 (29.3 MB/s) - ‘ngrok-stable-linux-amd64.zip.3’ saved [13832437/13832437]\n",
            "\n",
            "Archive:  ngrok-stable-linux-amd64.zip\n",
            "replace ngrok? [y]es, [n]o, [A]ll, [N]one, [r]ename: y\n",
            "  inflating: ngrok                   \n"
          ],
          "name": "stdout"
        }
      ]
    },
    {
      "cell_type": "markdown",
      "metadata": {
        "id": "N3PYpB-M4Cj8"
      },
      "source": [
        "## HTML部分"
      ]
    },
    {
      "cell_type": "code",
      "metadata": {
        "id": "CJWHpCyz_hEj"
      },
      "source": [
        "#Writing to html file on colab\n",
        "import os\n",
        "\n",
        "html = \"\"\"\n",
        "\n",
        "<!DOCTYPE html>\n",
        "<html lang=\"ja\">\n",
        "<head>\n",
        "\t<meta http-equiv=\"Content-Type\" content=\"text/html; charset=utf-8\" />\n",
        "  <link rel=\"stylesheet\" type=\"text/css\" href=\"{{ url_for('static', filename='css/bootstrap.min.css') }}\">\n",
        "  <link rel=\"stylesheet\" type=\"text/css\" href=\"{{ url_for('static', filename='css/gantarou.css') }}\">\n",
        "  <link rel=\"stylesheet\" type=\"text/css\" href=\"{{ url_for('static', filename='css/spectrum.css') }}\">\n",
        "  <link rel=\"stylesheet\" type=\"text/css\" href=\"{{ url_for('static', filename='css/component.css') }}\">\n",
        "  <link rel=\"stylesheet\" type=\"text/css\" href=\"{{ url_for('static', filename='css/style.css') }}\">\n",
        "  <script type=text/javascript src=\"{{ url_for('static', filename='js/jquery-2.1.4.min.js') }}\"></script>\n",
        "  <script type=text/javascript src=\"{{ url_for('static', filename='js/script.js') }}\"></script>\n",
        "  <script src=\"https://cdn.rawgit.com/blueimp/JavaScript-Load-Image/v2.6.2/js/load-image.all.min.js\"></script>\n",
        "\t\n",
        "  <script>(function(e,t,n){var r=e.querySelectorAll(\"html\")[0];r.className=r.className.replace(/(^|\\s)no-js(\\s|$)/,\"$1js$2\")})(document,window,0);</script>\n",
        "\t<title>\n",
        "\t\tCycleGAN太郎(Web版)\n",
        "\t</title>\n",
        "</head>\n",
        "<body data-luma=\"174.91\" data-colors=\"31\" data-model=\"0\" data-tolerance=\"5\" data-blur=\"0\" data-hash=\"5dd4d628b1c50b0006fdfabd\" data-edges=\"none\" data-layersort=\"4\" data-mins=\"1\" class=\"advanced\">\n",
        "    <nav class=\"navbar navbar-default\">\n",
        "      <div class=\"container\">\n",
        "        <div class=\"navbar-header\">\n",
        "          <a class=\"navbar-brand1\" href=\"/\">\n",
        "            <img src=\"../tmp/img/taroicon.png\" width=\"150\" height=\"80\">\n",
        "          \t<span class=\"cycle\">Cycle</span><span class=\"gantaro\">GAN太郎</span><span class=\"web\">(Web版)</span>\n",
        "          </a>\n",
        "        </div>\n",
        "      </div>\n",
        "    </nav>\n",
        "    <div class=\"modeselect\">\n",
        "    <form action=\"/post\" method=\"post\" enctype=\"multipart/form-data\" id=\"sendForm\">\n",
        "        <ul>\n",
        "            <li><a href=\"#tab1\" class=\"current\">季節</a></li>\n",
        "            <li><a href=\"#tab2\">風景</a></li>\n",
        "            <li><a href=\"#tab3\">異世界</a></li>\n",
        "            <li><a href=\"#tab4\">山</a></li>\n",
        "            <li><a href=\"#tab5\">絵画</a></li>\n",
        "        </ul>\n",
        "        <div id=\"contents\" class=\"selection-group\">\n",
        "            \n",
        "            <div id=\"tab1\">\n",
        "                <input id=\"spring\" type=\"radio\" name=\"type\" value=\"spring\"  required>\n",
        "                <label for=\"spring\">\n",
        "                    <img src=\"../tmp/img/springicon.png\">\n",
        "                </label>\n",
        "                <input id=\"summer\" type=\"radio\" name=\"type\" value=\"summer\">\n",
        "                <label for=\"summer\">\n",
        "                    <img src=\"../tmp/img/summericon.png\">\n",
        "                </label>\n",
        "                <input id=\"autumn\" type=\"radio\" name=\"type\" value=\"autumn\">\n",
        "                <label for=\"autumn\">\n",
        "                    <img src=\"../tmp/img/autumnicon.png\">\n",
        "                </label>\n",
        "                <input id=\"winter\" type=\"radio\" name=\"type\" value=\"winter\">\n",
        "                <label for=\"winter\">\n",
        "                    <img src=\"../tmp/img/wintericon.png\">\n",
        "                </label>\n",
        "            </div>\n",
        "            \n",
        "            <div id=\"tab2\">\n",
        "                <input id=\"aurora\" type=\"radio\" name=\"type\" value=\"aurora\"  required>\n",
        "                <label for=\"aurora\">\n",
        "                    <img src=\"../tmp/img/auroraicon.png\">\n",
        "                </label>\n",
        "                <input id=\"kagoshima\" type=\"radio\" name=\"type\" value=\"kagoshima\">\n",
        "                <label for=\"kagoshima\">\n",
        "                    <img src=\"../tmp/img/kagoshimaicon.png\">\n",
        "                </label>\n",
        "                <input id=\"europe\" type=\"radio\" name=\"type\" value=\"europe\">\n",
        "                <label for=\"europe\">\n",
        "                    <img src=\"../tmp/img/europeicon.png\">\n",
        "                </label>\n",
        "                <input id=\"hanabi\" type=\"radio\" name=\"type\" value=\"hanabi\">\n",
        "                <label for=\"hanabi\">\n",
        "                    <img src=\"../tmp/img/hanabiicon.png\">\n",
        "                </label>\n",
        "            </div>\n",
        "            \n",
        "            <div id=\"tab3\">\n",
        "                <input id=\"fantasy\" type=\"radio\" name=\"type\" value=\"fantasy\"  required>\n",
        "                <label for=\"fantasy\">\n",
        "                    <img src=\"../tmp/img/fantasyicon.png\">\n",
        "                </label>\n",
        "                <input id=\"horror\" type=\"radio\" name=\"type\" value=\"horror\">\n",
        "                <label for=\"horror\">\n",
        "                    <img src=\"../tmp/img/horroricon.png\">\n",
        "                </label>\n",
        "                <input id=\"mirai\" type=\"radio\" name=\"type\" value=\"mirai2\">\n",
        "                <label for=\"mirai\">\n",
        "                    <img src=\"../tmp/img/miraiicon.png\">\n",
        "                </label>\n",
        "                <input id=\"atlantis\" type=\"radio\" name=\"type\" value=\"atlantis\">\n",
        "                <label for=\"atlantis\">\n",
        "                    <img src=\"../tmp/img/atlantisicon.png\">\n",
        "                </label>\n",
        "            </div>\n",
        "            \n",
        "            <div id=\"tab4\">\n",
        "                <input id=\"sakurajima\" type=\"radio\" name=\"type\" value=\"sakurajima\"  required>\n",
        "                <label for=\"sakurajima\">\n",
        "                    <img src=\"../tmp/img/sakurajimaicon.png\">\n",
        "                </label>\n",
        "                <input id=\"fujisan\" type=\"radio\" name=\"type\" value=\"fujisan\">\n",
        "                <label for=\"fujisan\">\n",
        "                    <img src=\"../tmp/img/fujisanicon.png\">\n",
        "                </label>\n",
        "                <input id=\"hyozan\" type=\"radio\" name=\"type\" value=\"ice\">\n",
        "                <label for=\"hyozan\">\n",
        "                    <img src=\"../tmp/img/hyozanicon.png\">\n",
        "                </label>\n",
        "            </div>\n",
        "            \n",
        "            <div id=\"tab5\">\n",
        "                <input id=\"ukiyoe\" type=\"radio\" name=\"type\" value=\"ukiyoe\"  required>\n",
        "                <label for=\"ukiyoe\">\n",
        "                    <img src=\"../tmp/img/ukiyoeicon.png\">\n",
        "                </label>\n",
        "                <input id=\"oil\" type=\"radio\" name=\"type\" value=\"oil\">\n",
        "                <label for=\"oil\">\n",
        "                    <img src=\"../tmp/img/oilicon.png\">\n",
        "                </label>\n",
        "            </div>\n",
        "            \n",
        "        </div>\n",
        "            \n",
        "        <!-- 画像ファイル選択と変換ボタンです-->\n",
        "\t\t\t\t<div class=\"box\" id=\"set\">\n",
        "\n",
        "        <input type=\"file\" id=\"file-7\" class=\"inputfile inputfile-6\" style=\"opacity: 0\"  name=\"uploadFile\"/ required>\n",
        "        <label for=\"file-7\"><span></span> <strong><svg xmlns=\"http://www.w3.org/2000/svg\" width=\"20\" height=\"17\" viewBox=\"0 0 20 17\"><path d=\"M10 0l-5.2 4.9h3.3v5.1h3.8v-5.1h3.3l-5.2-4.9zm9.3 11.5l-3.2-2.1h-2l3.4 2.6h-3.5c-.1 0-.2.1-.2.1l-.8 2.3h-6l-.8-2.2c-.1-.1-.1-.2-.2-.2h-3.6l3.4-2.6h-2l-3.2 2.1c-.4.3-.7 1-.6 1.5l.6 3.1c.1.5.7.9 1.2.9h16.3c.6 0 1.1-.4 1.3-.9l.6-3.1c.1-.5-.2-1.2-.7-1.5z\"/></svg> 画像ファイルを選択&hellip;</strong></label>                                        \n",
        "        <script type=text/javascript src=\"{{ url_for('static', filename='js/custom-file-input.js') }}\"></script>\n",
        "        \n",
        "        <button type=\"submit\" id=\"sendimg\" class=\"btn-gradient-3d-simple\">変換</button>\n",
        "                    \n",
        "        <div class=\"loading-page\" id=\"loading\">\n",
        "            <div class=\"counter\">\n",
        "                <p>loading</p>\n",
        "                    <h1>0%\n",
        "                    </h1>\n",
        "                    <hr/>\n",
        "                </div>\n",
        "            </div>\n",
        "        </div>\n",
        "    </form>\n",
        "</div>\n",
        "    \n",
        "   \t<form method=\"post\" id=\"mainform\"> \n",
        "      <div class=\"container\">\n",
        "        <div class=\"row\">\n",
        "          <div class=\"col-md-6 col-sm-6 col-xs-12 input advanced\">\n",
        "              <h1>変換前</h1>\n",
        "              <div id=\"input\" class=\"well text-center\">\n",
        "                  <figure><img id=\"before\" src=\"\"></figure>\n",
        "                  <img id=\"inputimg\" class=\"img-responsive\" src=\"{{ url_Image1 }}\" onerror=\"this.style.display='none'\">\n",
        "              </div>\n",
        "              <br>\n",
        "          </div>\t\t\t\t\n",
        "          <div class=\"col-md-6 col-sm-6 col-xs-12 output\">\t\t\t\t\t\n",
        "            <div>\n",
        "                <h1>変換後</h1>\n",
        "            </div>\n",
        "            <div id=\"output\" class=\"well text-center\">\n",
        "                <figure><img id=\"after\" src=\"\"></figure>\n",
        "                <img id=\"outputimg\" class=\"img-responsive\" src=\"{{ url_Image2 }}\" onerror=\"this.style.display='none'\">\n",
        "            </div>\n",
        "          </div>\n",
        "        </div>\n",
        "      </div>\n",
        "    </form>  \n",
        "    <br>\t\n",
        "</body>\n",
        "</html>\n",
        "\"\"\"\n",
        "#Saving html file\n",
        "if not os.path.isdir( \"templates\" ):\n",
        "    os.makedirs( \"templates\" )\n",
        "with open(\"templates/index.html\", mode='w') as f:\n",
        "    f.write(html)\n",
        "\n",
        "#Making tmp folder to use temporarily stored\n",
        "if not os.path.isdir( \"tmp\" ):\n",
        "    os.makedirs( \"tmp\" )"
      ],
      "execution_count": null,
      "outputs": []
    },
    {
      "cell_type": "markdown",
      "metadata": {
        "id": "P5as_pn84KXa"
      },
      "source": [
        "## Webアプリ部分・実行"
      ]
    },
    {
      "cell_type": "code",
      "metadata": {
        "id": "sBsdckKyBPn0",
        "colab": {
          "base_uri": "https://localhost:8080/"
        },
        "outputId": "a968f832-44c8-49a1-ee62-414afa422ced"
      },
      "source": [
        "%cd /content/gdrive/My Drive/Colab Notebooks/WebApp\n",
        "get_ipython().system_raw('./ngrok http -subdomain=cyclegantaro 6006 &')\n",
        "! curl -s http://localhost:4040/api/tunnels | python3 -c \\\n",
        "    \"import sys, json; print(json.load(sys.stdin)['tunnels'][0]['public_url'])\"\n",
        "import tensorflow.compat.v1 as tf\n",
        "tf.disable_v2_behavior()\n",
        "\n",
        "from flask import Flask, render_template, send_from_directory, request, redirect, url_for\n",
        "import numpy as np\n",
        "import os\n",
        "import cv2 as cv\n",
        "import subprocess\n",
        "import datetime\n",
        "from PIL import Image, ImageOps\n",
        "\n",
        "app = Flask(__name__, static_folder=\"tmp\")\n",
        "\n",
        "global trans_type\n",
        "trans_type = \"\"\n",
        "\n",
        "@app.route(\"/\")\n",
        "def index():\n",
        "    return render_template( \"index.html\" )\n",
        "\n",
        "@app.route('/post', methods=['POST'])\n",
        "def post():\n",
        "\n",
        "    # ラジオボタンの値を取得する\n",
        "    \n",
        "    #global trans_type\n",
        "    trans_type = request.form['type']\n",
        "\n",
        "    try:\n",
        "        uploadFile = request.files['uploadFile']\n",
        "    except:\n",
        "        return redirect(url_for('index'))\n",
        "\n",
        "    # 時間ごとに一意なディレクトリを作成\n",
        "\n",
        "    dirname = datetime.datetime.now().strftime(\"%Y%m%d-%H%M%S\")\n",
        "    print(dirname)\n",
        "    os.mkdir(\"tmp/up/%s/\"%(dirname))\n",
        "    uploadFile.save(\"tmp/up/%s/\"%(dirname) + uploadFile.filename)\n",
        "\n",
        "    # Exifタグを取得して画像の回転修正、上書き（スマホからのアップ時に必要）\n",
        "    image = Image.open(\"tmp/up/%s/\"%(dirname) + uploadFile.filename)\n",
        "\n",
        "    try:\n",
        "      orientation = image._getexif()[274]\n",
        "      if orientation == 6:\n",
        "          image = image.rotate(-90)\n",
        "      elif orientation == 8:\n",
        "          image = image.rotate(-270)\n",
        "      elif orientation == 3:\n",
        "          image = image.rotate(180)\n",
        "      image.save(\"tmp/up/%s/\"%(dirname) + uploadFile.filename, 'PNG')\n",
        "    except:\n",
        "      print(\"Exif処理必要なし\")\n",
        "\n",
        "    # ここまでが画像の受信\n",
        "    # ここから変換\n",
        "\n",
        "    %cd /content/gdrive/My Drive/Colab Notebooks/WebApp/pytorch-CycleGAN-and-pix2pix\n",
        "    # if文で「trans_type」からdirectionAtoB or BtoAを判断\n",
        "    print(trans_type)\n",
        "    \n",
        "    cmd = \"python test.py --dataroot ../tmp/up/%s --name %s --model test --no_dropout --results_dir ../tmp/out_dir\"%(dirname, trans_type)\n",
        "    print(cmd)\n",
        "    print(\"CycleGANを\" + trans_type + \"変換で実行します\")\n",
        "    subprocess.call(cmd.split())\n",
        "\n",
        "    %cd /content/gdrive/My Drive/Colab Notebooks/WebApp\n",
        "\n",
        "    print(uploadFile.filename)\n",
        "    filename = uploadFile.filename.split(\".\")[0] + \"_fake.png\"\n",
        "    filename_real = filename.split(\"_fake.png\")[0] + \"_real.png\"\n",
        "    print(filename)\n",
        "    # 変換前画像\n",
        "    url_Image1 = \"/tmp/out_dir/%s/test_latest/images/\"%(trans_type) + filename_real\n",
        "    # 変換後画像\n",
        "    url_Image2 = \"/tmp/out_dir/%s/test_latest/images/\"%(trans_type) + filename\n",
        "\n",
        "    return render_template( \"index.html\",\n",
        "                                        url_Image1 = url_Image1, url_Image2 = url_Image2)\n",
        "    #return render_template( \"index.html\",\n",
        "    #                                    url_Image2 = url_Image2)\n",
        "\n",
        "@app.route('/tmp/out_dir/%s/test_latest/images/<filename>' % (trans_type))\n",
        "def uploaded_file(filename):\n",
        "    print(trans_type)\n",
        "    return send_from_directory(\"./tmp/out_dir/%s/test_latest/images/\"%(trans_type), filename)\n",
        "\n",
        "if __name__ == '__main__':\n",
        "    app.run(port=6006)"
      ],
      "execution_count": null,
      "outputs": [
        {
          "output_type": "stream",
          "text": [
            "/content/gdrive/My Drive/Colab Notebooks/WebApp\n",
            "Traceback (most recent call last):\n",
            "  File \"<string>\", line 1, in <module>\n",
            "IndexError: list index out of range\n",
            " * Serving Flask app \"__main__\" (lazy loading)\n",
            " * Environment: production\n",
            "\u001b[31m   WARNING: This is a development server. Do not use it in a production deployment.\u001b[0m\n",
            "\u001b[2m   Use a production WSGI server instead.\u001b[0m\n",
            " * Debug mode: off\n"
          ],
          "name": "stdout"
        },
        {
          "output_type": "stream",
          "text": [
            " * Running on http://127.0.0.1:6006/ (Press CTRL+C to quit)\n"
          ],
          "name": "stderr"
        }
      ]
    }
  ]
}