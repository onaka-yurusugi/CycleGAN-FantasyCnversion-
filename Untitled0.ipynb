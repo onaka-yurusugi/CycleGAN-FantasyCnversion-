{
  "nbformat": 4,
  "nbformat_minor": 0,
  "metadata": {
    "colab": {
      "provenance": [],
      "authorship_tag": "ABX9TyMjtNVyQIkD8uYbRAv3Fj/t",
      "include_colab_link": true
    },
    "kernelspec": {
      "name": "python3",
      "display_name": "Python 3"
    },
    "language_info": {
      "name": "python"
    }
  },
  "cells": [
    {
      "cell_type": "markdown",
      "metadata": {
        "id": "view-in-github",
        "colab_type": "text"
      },
      "source": [
        "<a href=\"https://colab.research.google.com/github/onaka-yurusugi/CycleGAN-FantasyCnversion-/blob/master/Untitled0.ipynb\" target=\"_parent\"><img src=\"https://colab.research.google.com/assets/colab-badge.svg\" alt=\"Open In Colab\"/></a>"
      ]
    },
    {
      "cell_type": "code",
      "execution_count": null,
      "metadata": {
        "colab": {
          "base_uri": "https://localhost:8080/"
        },
        "id": "yvQokn9j-Haa",
        "outputId": "be8ce8f8-f1bb-4ee0-ea07-1299070dc8d6"
      },
      "outputs": [
        {
          "output_type": "stream",
          "name": "stdout",
          "text": [
            "Looking in indexes: https://pypi.org/simple, https://us-python.pkg.dev/colab-wheels/public/simple/\n",
            "Collecting pyreportjasper\n",
            "  Downloading pyreportjasper-2.1.2-py3-none-any.whl (181.1 MB)\n",
            "\u001b[2K     \u001b[90m━━━━━━━━━━━━━━━━━━━━━━━━━━━━━━━━━━━━━━━\u001b[0m \u001b[32m181.1/181.1 MB\u001b[0m \u001b[31m3.3 MB/s\u001b[0m eta \u001b[36m0:00:00\u001b[0m\n",
            "\u001b[?25hCollecting jpype1\n",
            "  Downloading JPype1-1.4.1-cp38-cp38-manylinux_2_12_x86_64.manylinux2010_x86_64.whl (465 kB)\n",
            "\u001b[2K     \u001b[90m━━━━━━━━━━━━━━━━━━━━━━━━━━━━━━━━━━━━━━\u001b[0m \u001b[32m465.6/465.6 KB\u001b[0m \u001b[31m40.7 MB/s\u001b[0m eta \u001b[36m0:00:00\u001b[0m\n",
            "\u001b[?25hRequirement already satisfied: packaging in /usr/local/lib/python3.8/dist-packages (from jpype1->pyreportjasper) (23.0)\n",
            "Installing collected packages: jpype1, pyreportjasper\n",
            "Successfully installed jpype1-1.4.1 pyreportjasper-2.1.2\n"
          ]
        }
      ],
      "source": [
        "!pip install pyreportjasper"
      ]
    },
    {
      "cell_type": "code",
      "source": [
        "!git clone https://github.com/acesseonline/exemples_report.git"
      ],
      "metadata": {
        "colab": {
          "base_uri": "https://localhost:8080/"
        },
        "id": "Q5fZcTfr-Lm8",
        "outputId": "b5a7c1ca-e098-4aa8-8a25-5a69b973cb0e"
      },
      "execution_count": null,
      "outputs": [
        {
          "output_type": "stream",
          "name": "stdout",
          "text": [
            "Cloning into 'exemples_report'...\n",
            "remote: Enumerating objects: 37, done.\u001b[K\n",
            "remote: Counting objects: 100% (37/37), done.\u001b[K\n",
            "remote: Compressing objects: 100% (25/25), done.\u001b[K\n",
            "remote: Total 37 (delta 15), reused 30 (delta 12), pack-reused 0\u001b[K\n",
            "Unpacking objects: 100% (37/37), 17.57 KiB | 1.25 MiB/s, done.\n"
          ]
        }
      ]
    },
    {
      "cell_type": "code",
      "source": [
        "%cd \"/content/exemples_report/\""
      ],
      "metadata": {
        "colab": {
          "base_uri": "https://localhost:8080/"
        },
        "id": "UHl_Txo1-zVe",
        "outputId": "d5921408-8a4a-4fe8-a321-1a2b757a7db3"
      },
      "execution_count": null,
      "outputs": [
        {
          "output_type": "stream",
          "name": "stdout",
          "text": [
            "/content/exemples_report\n"
          ]
        }
      ]
    },
    {
      "cell_type": "code",
      "source": [
        "!ls"
      ],
      "metadata": {
        "colab": {
          "base_uri": "https://localhost:8080/"
        },
        "id": "iL_TxYpz-52R",
        "outputId": "d9f5c3b1-b7de-4622-a826-cf42f5771f65"
      },
      "execution_count": null,
      "outputs": [
        {
          "output_type": "stream",
          "name": "stdout",
          "text": [
            "README.rst  reports  requirements.txt  resources  run.py\n"
          ]
        }
      ]
    },
    {
      "cell_type": "code",
      "source": [
        "# -*- coding: utf-8 -*-\n",
        "import os\n",
        "from pyreportjasper import PyReportJasper\n",
        "\n",
        "def xml_to_pdf():\n",
        "   RESOURCES_DIR = './resources'\n",
        "   REPORTS_DIR = './reports'\n",
        "   input_file = os.path.join(REPORTS_DIR, 'CancelAck.jrxml')\n",
        "   output_file = os.path.join(REPORTS_DIR, 'cancel_ack2')\n",
        "   conn = {\n",
        "      'driver': 'json',\n",
        "      'data_file': os.path.join(RESOURCES_DIR, 'contacts.json'),\n",
        "      'json_query': 'contacts.person'\n",
        "   }\n",
        "   pyreportjasper = PyReportJasper()\n",
        "   pyreportjasper.config(\n",
        "      input_file,\n",
        "      output_file,\n",
        "      output_formats=[\"pdf\"],\n",
        "      db_connection=conn\n",
        "   )\n",
        "   pyreportjasper.process_report()\n",
        "   print('Result is the file below.')\n",
        "   print(output_file + '.pdf')\n",
        "\n",
        "xml_to_pdf()"
      ],
      "metadata": {
        "colab": {
          "base_uri": "https://localhost:8080/"
        },
        "id": "wkU7uiG5--2w",
        "outputId": "06dce1c1-cc79-40f8-b486-6623c3007c36"
      },
      "execution_count": null,
      "outputs": [
        {
          "output_type": "stream",
          "name": "stdout",
          "text": [
            "Result is the file below.\n",
            "./reports/cancel_ack2.pdf\n"
          ]
        }
      ]
    },
    {
      "cell_type": "code",
      "source": [
        "!java --version"
      ],
      "metadata": {
        "colab": {
          "base_uri": "https://localhost:8080/"
        },
        "id": "hEhP-AdG_hjx",
        "outputId": "1e88edb2-a727-48f0-bb44-c864dd28d428"
      },
      "execution_count": null,
      "outputs": [
        {
          "output_type": "stream",
          "name": "stdout",
          "text": [
            "openjdk 11.0.17 2022-10-18\n",
            "OpenJDK Runtime Environment (build 11.0.17+8-post-Ubuntu-1ubuntu220.04)\n",
            "OpenJDK 64-Bit Server VM (build 11.0.17+8-post-Ubuntu-1ubuntu220.04, mixed mode, sharing)\n"
          ]
        }
      ]
    },
    {
      "cell_type": "code",
      "source": [
        "!set"
      ],
      "metadata": {
        "id": "1oOS7fkJAm2J",
        "colab": {
          "base_uri": "https://localhost:8080/"
        },
        "outputId": "b58e999d-375d-449f-e9b0-5f0a194b77fd"
      },
      "execution_count": null,
      "outputs": [
        {
          "output_type": "stream",
          "name": "stdout",
          "text": [
            "BASH=/bin/bash\n",
            "BASHOPTS=checkwinsize:cmdhist:complete_fullquote:extquote:force_fignore:globasciiranges:hostcomplete:interactive_comments:progcomp:promptvars:sourcepath\n",
            "BASH_ALIASES=()\n",
            "BASH_ARGC=()\n",
            "BASH_ARGV=()\n",
            "BASH_CMDS=()\n",
            "BASH_EXECUTION_STRING=set\n",
            "BASH_LINENO=()\n",
            "BASH_SOURCE=()\n",
            "BASH_VERSINFO=([0]=\"5\" [1]=\"0\" [2]=\"17\" [3]=\"1\" [4]=\"release\" [5]=\"x86_64-pc-linux-gnu\")\n",
            "BASH_VERSION='5.0.17(1)-release'\n",
            "CGROUP_MEMORY_EVENTS='/sys/fs/cgroup/memory.events /var/colab/cgroup/jupyter-children/memory.events'\n",
            "CLICOLOR=1\n",
            "CLOUDSDK_CONFIG=/content/.config\n",
            "CLOUDSDK_PYTHON=python3\n",
            "COLAB_BACKEND_VERSION=next\n",
            "COLAB_RELEASE_TAG=release-colab-20230208-060050-RC01\n",
            "CUDA_VERSION=11.6.2\n",
            "DATALAB_SETTINGS_OVERRIDES='{\"kernelManagerProxyPort\":6000,\"kernelManagerProxyHost\":\"172.28.0.12\",\"jupyterArgs\":[\"--ip=172.28.0.12\",\"--transport=ipc\"],\"debugAdapterMultiplexerPath\":\"/usr/local/bin/dap_multiplexer\",\"enableLsp\":true}'\n",
            "DEBIAN_FRONTEND=noninteractive\n",
            "DIRSTACK=()\n",
            "ENABLE_DIRECTORYPREFETCHER=1\n",
            "ENV=/root/.bashrc\n",
            "EUID=0\n",
            "GCE_METADATA_TIMEOUT=3\n",
            "GCS_READ_CACHE_BLOCK_SIZE_MB=16\n",
            "GIT_PAGER=cat\n",
            "GROUPS=()\n",
            "HOME=/root\n",
            "HOSTNAME=1f0f558c18b3\n",
            "HOSTTYPE=x86_64\n",
            "IFS=$' \\t\\n'\n",
            "JPY_PARENT_PID=87\n",
            "KMP_EXTRA_ARGS='--listen_host=172.28.0.12 --target_host=172.28.0.12 --tunnel_background_save_url=https://colab.research.google.com/tun/m/cc48301118ce562b961b3c22d803539adc1e0c19/m-s-p27wa0o6ng2l --tunnel_background_save_delay=10s --tunnel_periodic_background_save_frequency=30m0s --enable_output_coalescing=true --output_coalescing_required=true'\n",
            "KMP_LISTEN_PORT=6000\n",
            "KMP_TARGET_PORT=9000\n",
            "LANG=en_US.UTF-8\n",
            "LAST_FORCED_REBUILD=20230130\n",
            "LD_LIBRARY_PATH=/usr/local/nvidia/lib:/usr/local/nvidia/lib64\n",
            "LIBRARY_PATH=/usr/local/cuda/lib64/stubs\n",
            "MACHTYPE=x86_64-pc-linux-gnu\n",
            "MPLBACKEND=module://ipykernel.pylab.backend_inline\n",
            "NCCL_VERSION=2.12.10-1\n",
            "NO_GCE_CHECK=False\n",
            "NVARCH=x86_64\n",
            "NVIDIA_DRIVER_CAPABILITIES=compute,utility\n",
            "NVIDIA_PRODUCT_NAME=CUDA\n",
            "NVIDIA_REQUIRE_CUDA='cuda>=11.6 brand=tesla,driver>=418,driver<419 brand=tesla,driver>=450,driver<451 brand=tesla,driver>=470,driver<471 brand=unknown,driver>=470,driver<471 brand=nvidia,driver>=470,driver<471 brand=nvidiartx,driver>=470,driver<471 brand=geforce,driver>=470,driver<471 brand=geforcertx,driver>=470,driver<471 brand=quadro,driver>=470,driver<471 brand=quadrortx,driver>=470,driver<471 brand=titan,driver>=470,driver<471 brand=titanrtx,driver>=470,driver<471'\n",
            "NVIDIA_VISIBLE_DEVICES=all\n",
            "NV_CUDA_COMPAT_PACKAGE=cuda-compat-11-6\n",
            "NV_CUDA_CUDART_DEV_VERSION=11.6.55-1\n",
            "NV_CUDA_CUDART_VERSION=11.6.55-1\n",
            "NV_CUDA_LIB_VERSION=11.6.2-1\n",
            "NV_CUDNN_PACKAGE=libcudnn8=8.4.0.27-1+cuda11.6\n",
            "NV_CUDNN_PACKAGE_DEV=libcudnn8-dev=8.4.0.27-1+cuda11.6\n",
            "NV_CUDNN_PACKAGE_NAME=libcudnn8\n",
            "NV_CUDNN_VERSION=8.4.0.27\n",
            "NV_LIBCUBLAS_DEV_PACKAGE=libcublas-dev-11-6=11.9.2.110-1\n",
            "NV_LIBCUBLAS_DEV_PACKAGE_NAME=libcublas-dev-11-6\n",
            "NV_LIBCUBLAS_DEV_VERSION=11.9.2.110-1\n",
            "NV_LIBCUBLAS_PACKAGE=libcublas-11-6=11.9.2.110-1\n",
            "NV_LIBCUBLAS_PACKAGE_NAME=libcublas-11-6\n",
            "NV_LIBCUBLAS_VERSION=11.9.2.110-1\n",
            "NV_LIBCUSPARSE_DEV_VERSION=11.7.2.124-1\n",
            "NV_LIBCUSPARSE_VERSION=11.7.2.124-1\n",
            "NV_LIBNCCL_DEV_PACKAGE=libnccl-dev=2.12.10-1+cuda11.6\n",
            "NV_LIBNCCL_DEV_PACKAGE_NAME=libnccl-dev\n",
            "NV_LIBNCCL_DEV_PACKAGE_VERSION=2.12.10-1\n",
            "NV_LIBNCCL_PACKAGE=libnccl2=2.12.10-1+cuda11.6\n",
            "NV_LIBNCCL_PACKAGE_NAME=libnccl2\n",
            "NV_LIBNCCL_PACKAGE_VERSION=2.12.10-1\n",
            "NV_LIBNPP_DEV_PACKAGE=libnpp-dev-11-6=11.6.3.124-1\n",
            "NV_LIBNPP_DEV_VERSION=11.6.3.124-1\n",
            "NV_LIBNPP_PACKAGE=libnpp-11-6=11.6.3.124-1\n",
            "NV_LIBNPP_VERSION=11.6.3.124-1\n",
            "NV_NVML_DEV_VERSION=11.6.55-1\n",
            "NV_NVPROF_DEV_PACKAGE=cuda-nvprof-11-6=11.6.124-1\n",
            "NV_NVPROF_VERSION=11.6.124-1\n",
            "NV_NVTX_VERSION=11.6.124-1\n",
            "OLDPWD=/\n",
            "OPTERR=1\n",
            "OPTIND=1\n",
            "OSTYPE=linux-gnu\n",
            "PAGER=cat\n",
            "PATH=/opt/bin:/usr/local/nvidia/bin:/usr/local/cuda/bin:/usr/local/sbin:/usr/local/bin:/usr/sbin:/usr/bin:/sbin:/bin:/tools/node/bin:/tools/google-cloud-sdk/bin\n",
            "PPID=104\n",
            "PS4='+ '\n",
            "PWD=/content/exemples_report\n",
            "PYDEVD_USE_FRAME_EVAL=NO\n",
            "PYTHONPATH=/env/python\n",
            "PYTHONWARNINGS=ignore:::pip._internal.cli.base_command\n",
            "SHELL=/bin/bash\n",
            "SHELLOPTS=braceexpand:hashall:interactive-comments\n",
            "SHLVL=1\n",
            "TBE_CREDS_ADDR=172.28.0.1:8008\n",
            "TBE_EPHEM_CREDS_ADDR=172.28.0.1:8009\n",
            "TBE_RUNTIME_ADDR=172.28.0.1:8011\n",
            "TCLLIBPATH=/usr/share/tcltk/tcllib1.20\n",
            "TERM=xterm-color\n",
            "TF_FORCE_GPU_ALLOW_GROWTH=true\n",
            "UID=0\n",
            "USE_AUTH_EPHEM=1\n",
            "VM_GCE_METADATA_HOST=169.254.169.253\n",
            "_=/bin/bash\n"
          ]
        }
      ]
    },
    {
      "cell_type": "code",
      "source": [
        "!JAVA_HOME"
      ],
      "metadata": {
        "colab": {
          "base_uri": "https://localhost:8080/"
        },
        "id": "r1NL38VhZTbc",
        "outputId": "a62d8bb7-e96d-4439-b01e-7bc6e8d290b4"
      },
      "execution_count": null,
      "outputs": [
        {
          "output_type": "stream",
          "name": "stdout",
          "text": [
            "/bin/bash: JAVA_HOME: command not found\n"
          ]
        }
      ]
    },
    {
      "cell_type": "code",
      "source": [
        "\n",
        "!npx localtunnel --port 3000"
      ],
      "metadata": {
        "colab": {
          "base_uri": "https://localhost:8080/"
        },
        "id": "mrp78m54a9tJ",
        "outputId": "5ca3f744-8318-4945-dde5-8e7b67e5ef73"
      },
      "execution_count": null,
      "outputs": [
        {
          "output_type": "stream",
          "name": "stdout",
          "text": [
            "\u001b[K\u001b[?25hnpx: installed 22 in 1.338s\n",
            "your url is: https://swift-stars-train-34-141-145-36.loca.lt\n"
          ]
        }
      ]
    }
  ]
}